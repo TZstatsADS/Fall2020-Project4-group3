{
 "cells": [
  {
   "cell_type": "markdown",
   "metadata": {},
   "source": [
    "Packages not all needed"
   ]
  },
  {
   "cell_type": "code",
   "execution_count": 17,
   "metadata": {},
   "outputs": [],
   "source": [
    "import os\n",
    "import json\n",
    "import numpy\n",
    "import pandas as pd\n",
    "import time\n",
    "import gc\n",
    "import psutil\n",
    "import statsmodels.api\n",
    "import sklearn\n",
    "from sklearn.linear_model import LogisticRegression"
   ]
  },
  {
   "cell_type": "markdown",
   "metadata": {},
   "source": [
    "Reproducibility working directory"
   ]
  },
  {
   "cell_type": "code",
   "execution_count": 18,
   "metadata": {},
   "outputs": [
    {
     "data": {
      "text/plain": [
       "'C:\\\\Users\\\\swint\\\\Documents\\\\ADS\\\\Fall2020-Project4-group3\\\\data'"
      ]
     },
     "execution_count": 18,
     "metadata": {},
     "output_type": "execute_result"
    }
   ],
   "source": [
    "os.chdir(\"../data\")\n",
    "os.getcwd()"
   ]
  },
  {
   "cell_type": "markdown",
   "metadata": {},
   "source": [
    "Loding in data set"
   ]
  },
  {
   "cell_type": "code",
   "execution_count": 19,
   "metadata": {},
   "outputs": [],
   "source": [
    "highdim = pd.read_csv(\"highDim_dataset.csv\")"
   ]
  },
  {
   "cell_type": "code",
   "execution_count": 20,
   "metadata": {},
   "outputs": [],
   "source": [
    "lowdim = pd.read_csv(\"lowDim_dataset.csv\")"
   ]
  },
  {
   "cell_type": "markdown",
   "metadata": {},
   "source": [
    "finding the values L2 (lowdim followed by highdim)"
   ]
  },
  {
   "cell_type": "code",
   "execution_count": 5,
   "metadata": {},
   "outputs": [],
   "source": [
    "V = lowdim.drop(\"A\", axis = 1)\n",
    "V = V.drop(\"Y\", axis = 1)\n",
    "T = lowdim[\"A\"]\n",
    "clf = sklearn.skylerlinear_model.LogisticRegression(random_state=0, solver='newton-cg', penalty='l2', C=1.0).fit(V, T)\n",
    "low_prop = clf.predict_proba(V)[:,1]"
   ]
  },
  {
   "cell_type": "code",
   "execution_count": 22,
   "metadata": {},
   "outputs": [
    {
     "name": "stderr",
     "output_type": "stream",
     "text": [
      "C:\\Users\\swint\\anaconda3\\lib\\site-packages\\sklearn\\utils\\optimize.py:212: ConvergenceWarning: newton-cg failed to converge. Increase the number of iterations.\n",
      "  \"number of iterations.\", ConvergenceWarning)\n"
     ]
    }
   ],
   "source": [
    "V = highdim.drop(\"A\", axis = 1)\n",
    "V = V.drop(\"Y\", axis = 1)\n",
    "T = highdim[\"A\"]\n",
    "clf1 = LogisticRegression(random_state=0, solver='newton-cg', penalty='l2', C=1.0).fit(V, T)\n",
    "high_prop = clf1.predict_proba(V)[:,1]"
   ]
  },
  {
   "cell_type": "markdown",
   "metadata": {},
   "source": [
    "K = 7"
   ]
  },
  {
   "cell_type": "code",
   "execution_count": 28,
   "metadata": {},
   "outputs": [],
   "source": [
    "by = (max(low_prop) - min(low_prop)) / 7\n",
    "k = []\n",
    "for i in (low_prop):\n",
    "    if  i >= min(low_prop)and i < min(low_prop)+by:\n",
    "        k.append(i) \n",
    "by = (max(high_prop) - min(high_prop)) / 7\n",
    "K = []\n",
    "for i in (high_prop):\n",
    "    if  i >= min(high_prop)and i < min(high_prop)+by:\n",
    "        K.append(i) \n"
   ]
  },
  {
   "cell_type": "code",
   "execution_count": 29,
   "metadata": {},
   "outputs": [],
   "source": [
    "r = []\n",
    "for i in (low_prop):\n",
    "    if i >= min(low_prop)+by and i < min(low_prop)+by+by:\n",
    "        r.append(i)    \n",
    "R = []\n",
    "for i in (low_prop):\n",
    "    if i >= min(low_prop)+by and i < min(low_prop)+by+by:\n",
    "        R.append(i)   "
   ]
  },
  {
   "cell_type": "code",
   "execution_count": 30,
   "metadata": {},
   "outputs": [],
   "source": [
    "f = []\n",
    "for i in (low_prop):\n",
    "    if i >= min(low_prop)+by+by and i < min(low_prop)+by+by+by:\n",
    "        f.append(i)\n",
    "F = []\n",
    "for i in (high_prop):\n",
    "    if i >= min(high_prop)+by+by and i < min(high_prop)+by+by+by:\n",
    "        F.append(i)"
   ]
  },
  {
   "cell_type": "code",
   "execution_count": 31,
   "metadata": {},
   "outputs": [],
   "source": [
    "h = []\n",
    "for i in (low_prop): \n",
    "    if i >= min(low_prop)+by+by+by and i < min(low_prop)+by+by+by+by:\n",
    "        h.append(i)\n",
    "H = []\n",
    "for i in (high_prop): \n",
    "    if i >= min(high_prop)+by+by+by and i < min(high_prop)+by+by+by+by:\n",
    "        H.append(i)"
   ]
  },
  {
   "cell_type": "code",
   "execution_count": 32,
   "metadata": {},
   "outputs": [],
   "source": [
    "l = []\n",
    "for i in (low_prop):\n",
    "    if i >= min(low_prop)+by+by+by+by and i <= min(low_prop)+by+by+by+by+by: \n",
    "        l.append(i)\n",
    "L = []\n",
    "for i in (high_prop):\n",
    "    if i >= min(high_prop)+by+by+by+by and i <= min(high_prop)+by+by+by+by+by: \n",
    "        L.append(i)"
   ]
  },
  {
   "cell_type": "code",
   "execution_count": 33,
   "metadata": {},
   "outputs": [],
   "source": [
    "p = []\n",
    "for i in (low_prop):\n",
    "    if i >= min(low_prop)+by+by+by+by+by and i <= min(low_prop)+by+by+by+by+by+by: \n",
    "        p.append(i)\n",
    "P = []\n",
    "for i in (high_prop):\n",
    "    if i >= min(high_prop)+by+by+by+by+by and i <= min(high_prop)+by+by+by+by+by+by: \n",
    "        P.append(i)"
   ]
  },
  {
   "cell_type": "code",
   "execution_count": 34,
   "metadata": {},
   "outputs": [],
   "source": [
    "b = []\n",
    "for i in (low_prop):\n",
    "    if i >= min(low_prop)+by+by+by+by+by+by and i <= min(low_prop)+by+by+by+by+by+by+by: \n",
    "        b.append(i)\n",
    "B = []\n",
    "for i in (high_prop):\n",
    "    if i >= min(high_prop)+by+by+by+by+by+by and i <= min(high_prop)+by+by+by+by+by+by+by: \n",
    "        B.append(i)"
   ]
  },
  {
   "cell_type": "code",
   "execution_count": 27,
   "metadata": {},
   "outputs": [],
   "source": [
    "low_prop = numpy.array([0.51303968, 0.23333333, 0.72555556, 0.06      , 0.66666667,\n",
    "       0.        , 0.05777778, 0.86166667, 0.0586193 , 0.80055556,\n",
    "       0.67666667, 0.10666667, 0.09666667, 0.06      , 0.79003968,\n",
    "       0.19      , 0.835     , 0.71166667, 0.07833333, 0.06333333,\n",
    "       0.66166667, 0.07222222, 0.04666667, 0.1       , 0.76666667,\n",
    "       0.47150794, 0.        , 0.03      , 0.85111111, 0.15666667,\n",
    "       0.032     , 0.25666667, 0.10055556, 0.01666667, 0.64666667,\n",
    "       0.06333333, 0.06      , 0.01666667, 0.77833333, 0.08166667,\n",
    "       0.03      , 0.12111111, 0.06333333, 0.715     , 0.19927778,\n",
    "       0.82      , 0.19      , 0.06444444, 0.07333333, 0.04      ,\n",
    "       0.03333333, 0.09      , 0.02      , 0.05      , 0.24      ,\n",
    "       0.14411111, 0.02833333, 0.51303968, 0.11833333, 0.13555556,\n",
    "       0.0039418 , 0.77666667, 0.09      , 0.11      , 0.06333333,\n",
    "       0.72666667, 0.76333333, 0.82666667, 0.04333333, 0.00333333,\n",
    "       0.13      , 0.01      , 0.04      , 0.00333333, 0.00333333,\n",
    "       0.45372222, 0.        , 0.00666667, 0.16666667, 0.74      ,\n",
    "       0.00333333, 0.18027778, 0.        , 0.87666667, 0.805     ,\n",
    "       0.07333333, 0.84      , 0.        , 0.16888889, 0.70666667,\n",
    "       0.        , 0.30992857, 0.83      , 0.03666667, 0.0975    ,\n",
    "       0.13277778, 0.87357143, 0.75638889, 0.21333333, 0.04977778,\n",
    "       0.06      , 0.07594444, 0.07833333, 0.52661111, 0.0586193 ,\n",
    "       0.22333333, 0.05333333, 0.82194444, 0.00666667, 0.13      ,\n",
    "       0.14666667, 0.00666667, 0.85333333, 0.0586193 , 0.22361111,\n",
    "       0.18666667, 0.19333333, 0.93333333, 0.045     , 0.0533082 ,\n",
    "       0.15666667, 0.        , 0.0586193 , 0.        , 0.03      ,\n",
    "       0.65      , 0.09333333, 0.        , 0.00333333, 0.        ,\n",
    "       0.91333333, 0.70583333, 0.        , 0.10333333, 0.33      ,\n",
    "       0.16666667, 0.10166667, 0.17511111, 0.09166667, 0.47150794,\n",
    "       0.        , 0.06666667, 0.70388889, 0.21333333, 0.02      ,\n",
    "       0.0586193 , 0.        , 0.01666667, 0.00666667, 0.88333333,\n",
    "       0.03444444, 0.        , 0.1125    , 0.78916667, 0.08      ,\n",
    "       0.        , 0.01333333, 0.7       , 0.00333333, 0.8       ,\n",
    "       0.14666667, 0.00666667, 0.65666667, 0.05      , 0.01      ,\n",
    "       0.45372222, 0.22666667, 0.0039418 , 0.17444444, 0.285     ,\n",
    "       0.00133333, 0.20516667, 0.05      , 0.83055556, 0.0586193 ,\n",
    "       0.0586193 , 0.04      , 0.78666667, 0.66333333, 0.04694444,\n",
    "       0.005     , 0.13555556, 0.68681818, 0.08277778, 0.15611111,\n",
    "       0.14722222, 0.19811903, 0.        , 0.1655    , 0.0586193 ,\n",
    "       0.07666667, 0.28888889, 0.0586193 , 0.76      , 0.03888889,\n",
    "       0.00333333, 0.02      , 0.63      , 0.04666667, 0.03333333,\n",
    "       0.        , 0.        , 0.08524747, 0.04333333, 0.01333333,\n",
    "       0.78361111, 0.22714286, 0.005     , 0.75277778, 0.02055556,\n",
    "       0.00333333, 0.07      , 0.05333333, 0.12666667, 0.17      ,\n",
    "       0.03888889, 0.03833333, 0.12833333, 0.02      , 0.12333333,\n",
    "       0.13      , 0.16333333, 0.19811903, 0.        , 0.14166667,\n",
    "       0.83144444, 0.71      , 0.04361111, 0.14      , 0.01047619,\n",
    "       0.08333333, 0.68666667, 0.05222222, 0.0586193 , 0.70333333,\n",
    "       0.74666667, 0.24338889, 0.        , 0.006     , 0.        ,\n",
    "       0.065     , 0.81357143, 0.10666667, 0.02833333, 0.50134921,\n",
    "       0.14666667, 0.50134921, 0.10666667, 0.65333333, 0.01      ,\n",
    "       0.09933333, 0.14066667, 0.08      , 0.0586193 , 0.49246825,\n",
    "       0.09333333, 0.70666667, 0.74166667, 0.33666667, 0.01      ,\n",
    "       0.10333333, 0.0586193 , 0.00333333, 0.        , 0.00333333,\n",
    "       0.        , 0.65      , 0.00333333, 0.09933333, 0.04066667,\n",
    "       0.92583333, 0.78666667, 0.52661111, 0.19811903, 0.07      ,\n",
    "       0.19883333, 0.00666667, 0.00333333, 0.01333333, 0.71      ,\n",
    "       0.76111111, 0.11666667, 0.03333333, 0.0586193 , 0.03200661,\n",
    "       0.08333333, 0.04      , 0.76333333, 0.12954762, 0.65333333,\n",
    "       0.75333333, 0.16666667, 0.84666667, 0.00666667, 0.00133333,\n",
    "       0.01726984, 0.04333333, 0.07333333, 0.15333333, 0.66      ,\n",
    "       0.16666667, 0.92805556, 0.18      , 0.03      , 0.03333333,\n",
    "       0.04333333, 0.16111111, 0.0871131 , 0.03166667, 0.06      ,\n",
    "       0.00333333, 0.04      , 0.        , 0.032     , 0.02      ,\n",
    "       0.14666667, 0.69333333, 0.12638889, 0.03333333, 0.04      ,\n",
    "       0.802     , 0.16444444, 0.49246825, 0.00333333, 0.72333333,\n",
    "       0.26      , 0.76666667, 0.00666667, 0.21      , 0.02333333,\n",
    "       0.05666667, 0.03388889, 0.17333333, 0.00333333, 0.00333333,\n",
    "       0.12666667, 0.69666667, 0.00333333, 0.11333333, 0.10333333,\n",
    "       0.06333333, 0.05666667, 0.0586193 , 0.        , 0.02666667,\n",
    "       0.12833333, 0.18333333, 0.71777778, 0.81777778, 0.00333333,\n",
    "       0.12305556, 0.81638889, 0.09666667, 0.42538889, 0.00333333,\n",
    "       0.77138889, 0.1325    , 0.75      , 0.64555556, 0.69      ,\n",
    "       0.17166667, 0.74833333, 0.07333333, 0.01666667, 0.04666667,\n",
    "       0.16111111, 0.67      , 0.03666667, 0.20666667, 0.05333333,\n",
    "       0.03333333, 0.05666667, 0.24055556, 0.07333333, 0.19811903,\n",
    "       0.13111111, 0.02666667, 0.10666667, 0.07690476, 0.93111111,\n",
    "       0.07658724, 0.66      , 0.65      , 0.19811903, 0.05666667,\n",
    "       0.00333333, 0.02333333, 0.05      , 0.42538889, 0.11333333,\n",
    "       0.17166667, 0.00333333, 0.00333333, 0.16      , 0.30992857,\n",
    "       0.02333333, 0.68722222, 0.05666667, 0.78477778, 0.03      ,\n",
    "       0.07777778, 0.13055556, 0.76883333, 0.05027778, 0.04083333,\n",
    "       0.04333333, 0.05      , 0.68555556, 0.12666667, 0.10166667,\n",
    "       0.64333333, 0.0586193 , 0.20666667, 0.23333333, 0.00133333,\n",
    "       0.8       , 0.16333333, 0.67333333, 0.0586193 , 0.00833333,\n",
    "       0.09222222, 0.16333333, 0.24633333, 0.02055556, 0.22      ,\n",
    "       0.06544444, 0.00333333, 0.        , 0.        , 0.10666667,\n",
    "       0.00333333, 0.20305556, 0.82016667, 0.12222222, 0.05      ,\n",
    "       0.21555556, 0.00333333, 0.30992857, 0.01833333, 0.14      ,\n",
    "       0.00338624, 0.69      , 0.775     , 0.        , 0.0586193 ,\n",
    "       0.05333333, 0.73666667, 0.02333333, 0.28166667, 0.07666667,\n",
    "       0.02      , 0.14605556, 0.01      , 0.79333333, 0.18      ,\n",
    "       0.032     , 0.04      , 0.00333333, 0.04      , 0.10433333,\n",
    "       0.09333333, 0.02053571, 0.06333333, 0.02333333, 0.01333333,\n",
    "       0.93111111, 0.19      , 0.00333333, 0.7125    , 0.78333333,\n",
    "       0.81277778, 0.79222222, 0.71166667, 0.17833333, 0.2       ]) \n",
    "lowdim[\"low_prop\"] = low_prop\n",
    "highdim[\"high_prop\"] = high_prop"
   ]
  },
  {
   "cell_type": "markdown",
   "metadata": {},
   "source": [
    "Stratification"
   ]
  },
  {
   "cell_type": "code",
   "execution_count": 35,
   "metadata": {},
   "outputs": [
    {
     "data": {
      "text/plain": [
       "-7.795126587789689"
      ]
     },
     "execution_count": 35,
     "metadata": {},
     "output_type": "execute_result"
    }
   ],
   "source": [
    "deltaslow = []\n",
    "for i in [k,r,f,h,l,p,b]:\n",
    "    Nj = len(i) # Nj\n",
    "    N = lowdim.shape[0] # N  \n",
    "    if len(lowdim[lowdim.low_prop.isin(i)].A == 1) == 0:\n",
    "        N1 = 0\n",
    "    else:\n",
    "        N1 = 1/len(lowdim[lowdim.low_prop.isin(i)].A == 1) #N1^-1\n",
    "    if len(lowdim[lowdim.low_prop.isin(i)].A == 0) == 0:\n",
    "        N0 = 0\n",
    "    else:\n",
    "        N0 = 1/len(lowdim[lowdim.low_prop.isin(i)].A == 0) #N0^-1\n",
    "    sum1 = sum(pd.DataFrame([(lowdim[lowdim.low_prop.isin(i)])][0])[pd.DataFrame([(lowdim[lowdim.low_prop.isin(i)])][0])[\"A\"] == 1].Y)\n",
    "    sum0 = sum(pd.DataFrame([(lowdim[lowdim.low_prop.isin(i)])][0])[pd.DataFrame([(lowdim[lowdim.low_prop.isin(i)])][0])[\"A\"] == 0].Y)\n",
    "    deltaslow.append((Nj/N)*(abs(N1*sum1)-abs(N0*sum0)))\n",
    "sum(deltaslow)"
   ]
  },
  {
   "cell_type": "code",
   "execution_count": 36,
   "metadata": {},
   "outputs": [
    {
     "data": {
      "text/plain": [
       "0.42344628729511613"
      ]
     },
     "execution_count": 36,
     "metadata": {},
     "output_type": "execute_result"
    }
   ],
   "source": [
    "deltashigh = []\n",
    "for i in [K,R,F,H,L,P,B]:\n",
    "    Nj = len(i) # Nj\n",
    "    N = highdim.shape[0] # N  \n",
    "    if len(highdim[highdim.high_prop.isin(i)].A == 1) == 0:\n",
    "        N1 = 0\n",
    "    else:\n",
    "        N1 = 1/len(highdim[highdim.high_prop.isin(i)].A == 1) #N1^-1\n",
    "    if len(highdim[highdim.high_prop.isin(i)].A == 0) == 0:\n",
    "        N0 = 0\n",
    "    else:\n",
    "        N0 = 1/len(highdim[highdim.high_prop.isin(i)].A == 0) #N0^-1\n",
    "    sum1 = sum(pd.DataFrame([(highdim[highdim.high_prop.isin(i)])][0])[pd.DataFrame([(highdim[highdim.high_prop.isin(i)])][0])[\"A\"] == 1].Y)\n",
    "    sum0 = sum(pd.DataFrame([(highdim[highdim.high_prop.isin(i)])][0])[pd.DataFrame([(highdim[highdim.high_prop.isin(i)])][0])[\"A\"] == 0].Y)\n",
    "    deltashigh.append((Nj/N)*(abs(N1*sum1)-abs(N0*sum0)))\n",
    "sum(deltashigh)"
   ]
  },
  {
   "cell_type": "code",
   "execution_count": null,
   "metadata": {},
   "outputs": [],
   "source": []
  }
 ],
 "metadata": {
  "kernelspec": {
   "display_name": "Python 3",
   "language": "python",
   "name": "python3"
  },
  "language_info": {
   "codemirror_mode": {
    "name": "ipython",
    "version": 3
   },
   "file_extension": ".py",
   "mimetype": "text/x-python",
   "name": "python",
   "nbconvert_exporter": "python",
   "pygments_lexer": "ipython3",
   "version": "3.7.6"
  }
 },
 "nbformat": 4,
 "nbformat_minor": 4
}
