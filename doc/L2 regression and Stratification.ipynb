{
 "cells": [
  {
   "cell_type": "code",
   "execution_count": null,
   "metadata": {},
   "outputs": [],
   "source": [
    "import pandas as pandas\n",
    "import sklearn"
   ]
  },
  {
   "cell_type": "markdown",
   "metadata": {},
   "source": [
    "### lowDim_dataset"
   ]
  },
  {
   "cell_type": "code",
   "execution_count": null,
   "metadata": {},
   "outputs": [],
   "source": [
    "low_dim = pandas.read_csv('../data/lowDim_dataset.csv')\n",
    "low_dim"
   ]
  },
  {
   "cell_type": "code",
   "execution_count": null,
   "metadata": {
    "scrolled": false
   },
   "outputs": [],
   "source": [
    "X = low_dim.iloc[:, 2:]\n",
    "A = low_dim['A']"
   ]
  },
  {
   "cell_type": "code",
   "execution_count": null,
   "metadata": {},
   "outputs": [],
   "source": [
    "clf = sklearn.linear_model.LogisticRegression(random_state=0, solver = 'lbfgs', penalty = 'l2', C = 1.0).fit(X, A)\n",
    "PS = clf.predict_proba(X)[:,1]\n",
    "# clf.score(X, A)  # accuracy\n",
    "\n",
    "\n"
   ]
  },
  {
   "cell_type": "code",
   "execution_count": null,
   "metadata": {},
   "outputs": [],
   "source": [
    "stratum = pandas.qcut(PS, [0, 0.2, 0.4, 0.6, 0.8, 1.])\n",
    "stratum"
   ]
  },
  {
   "cell_type": "code",
   "execution_count": null,
   "metadata": {},
   "outputs": [],
   "source": [
    "stratum.categories = ['a', 'b', 'c', 'd', 'e']"
   ]
  },
  {
   "cell_type": "code",
   "execution_count": null,
   "metadata": {},
   "outputs": [],
   "source": [
    "stratum"
   ]
  },
  {
   "cell_type": "code",
   "execution_count": null,
   "metadata": {},
   "outputs": [],
   "source": [
    "low_dim['stratum'] = stratum"
   ]
  },
  {
   "cell_type": "code",
   "execution_count": null,
   "metadata": {},
   "outputs": [],
   "source": [
    "low_dim"
   ]
  },
  {
   "cell_type": "code",
   "execution_count": null,
   "metadata": {},
   "outputs": [],
   "source": [
    "summary_df = low_dim[['A', 'stratum', 'Y']].groupby(['A', 'stratum']).mean()\n",
    "summary_df"
   ]
  },
  {
   "cell_type": "code",
   "execution_count": null,
   "metadata": {
    "scrolled": true
   },
   "outputs": [],
   "source": [
    "# import numpy as np\n",
    "# np.quantile(PS, [0, 0.2, 0.4, 0.6, 0.8, 1.])"
   ]
  },
  {
   "cell_type": "code",
   "execution_count": null,
   "metadata": {},
   "outputs": [],
   "source": [
    "summary_df.columns"
   ]
  },
  {
   "cell_type": "code",
   "execution_count": null,
   "metadata": {},
   "outputs": [],
   "source": [
    "summary_df.index"
   ]
  },
  {
   "cell_type": "code",
   "execution_count": null,
   "metadata": {},
   "outputs": [],
   "source": [
    "summary_df.loc[[(0, 'a'), (1, 'a')]]\n",
    "#              df.loc[[('c', 'u'), ('a', 'w')]]"
   ]
  },
  {
   "cell_type": "code",
   "execution_count": null,
   "metadata": {},
   "outputs": [],
   "source": [
    "summary_df.loc[pandas.IndexSlice[(1, 'a')]] - summary_df.loc[pandas.IndexSlice[(0, 'a')]]"
   ]
  },
  {
   "cell_type": "code",
   "execution_count": null,
   "metadata": {},
   "outputs": [],
   "source": [
    "# (0.0073, 0.113] < (0.113, 0.15] < (0.15, 0.222] < (0.222, 0.355] < (0.355, 0.931]]"
   ]
  },
  {
   "cell_type": "code",
   "execution_count": null,
   "metadata": {},
   "outputs": [],
   "source": [
    "strata = ['a', 'b', 'c', 'd', 'e']"
   ]
  },
  {
   "cell_type": "code",
   "execution_count": null,
   "metadata": {
    "scrolled": true
   },
   "outputs": [],
   "source": [
    "ATE = 0\n",
    "for s in strata:\n",
    "#     print(summary_df.loc[pandas.IndexSlice[(1, s)]] - summary_df.loc[pandas.IndexSlice[(0, s)]])\n",
    "    ATE += summary_df.loc[pandas.IndexSlice[(1, s)]] - summary_df.loc[pandas.IndexSlice[(0, s)]]\n",
    "    "
   ]
  },
  {
   "cell_type": "code",
   "execution_count": null,
   "metadata": {
    "scrolled": true
   },
   "outputs": [],
   "source": [
    "ATE"
   ]
  },
  {
   "cell_type": "code",
   "execution_count": null,
   "metadata": {},
   "outputs": [],
   "source": [
    "ATE /= 5\n",
    "ATE"
   ]
  },
  {
   "cell_type": "code",
   "execution_count": null,
   "metadata": {},
   "outputs": [],
   "source": [
    "low_dim[['A', 'stratum', 'Y']].groupby(['A', 'stratum']).count()"
   ]
  },
  {
   "cell_type": "markdown",
   "metadata": {},
   "source": []
  },
  {
   "cell_type": "code",
   "execution_count": null,
   "metadata": {},
   "outputs": [],
   "source": []
  },
  {
   "cell_type": "code",
   "execution_count": null,
   "metadata": {},
   "outputs": [],
   "source": []
  },
  {
   "cell_type": "code",
   "execution_count": null,
   "metadata": {},
   "outputs": [],
   "source": []
  },
  {
   "cell_type": "code",
   "execution_count": null,
   "metadata": {},
   "outputs": [],
   "source": [
    "def ATE_fun(data_path, C):\n",
    "    data = pandas.read_csv(data_path)\n",
    "    X = data.iloc[:, 2:]\n",
    "    A = data['A']\n",
    "    clf = sklearn.linear_model.LogisticRegression(random_state=0, solver = 'lbfgs', penalty = 'l2', C = C, max_iter = 10000).fit(X, A)\n",
    "    PS = clf.predict_proba(X)[:, 1]\n",
    "    stratum = pandas.qcut(PS, [0, 0.2, 0.4, 0.6, 0.8, 1.])\n",
    "    stratum.categories = ['a', 'b', 'c', 'd', 'e']\n",
    "    data['stratum'] = stratum\n",
    "    summary_df = data[['A', 'stratum', 'Y']].groupby(['A', 'stratum']).mean()\n",
    "    ATE = 0\n",
    "    strata = ['a', 'b', 'c', 'd', 'e']\n",
    "    for s in strata:\n",
    "        ATE += summary_df.loc[pandas.IndexSlice[(1, s)]] - summary_df.loc[pandas.IndexSlice[(0, s)]]\n",
    "    ATE /= 5\n",
    "\n",
    "    return (ATE.values[0], clf.score(X, A))"
   ]
  },
  {
   "cell_type": "code",
   "execution_count": null,
   "metadata": {
    "scrolled": false
   },
   "outputs": [],
   "source": [
    "ATE_fun('../data/lowDim_dataset.csv', 0.001)"
   ]
  },
  {
   "cell_type": "code",
   "execution_count": null,
   "metadata": {},
   "outputs": [],
   "source": [
    "ATE_fun('../data/lowDim_dataset.csv', 0.01)"
   ]
  },
  {
   "cell_type": "code",
   "execution_count": null,
   "metadata": {},
   "outputs": [],
   "source": [
    "ATE_fun('../data/lowDim_dataset.csv', 0.1)"
   ]
  },
  {
   "cell_type": "code",
   "execution_count": null,
   "metadata": {
    "scrolled": true
   },
   "outputs": [],
   "source": [
    "ATE_fun('../data/lowDim_dataset.csv', 1.0)"
   ]
  },
  {
   "cell_type": "code",
   "execution_count": null,
   "metadata": {},
   "outputs": [],
   "source": [
    "ATE_fun('../data/lowDim_dataset.csv', 10)"
   ]
  },
  {
   "cell_type": "code",
   "execution_count": null,
   "metadata": {
    "scrolled": true
   },
   "outputs": [],
   "source": [
    "ATE_fun('../data/lowDim_dataset.csv', 100)"
   ]
  },
  {
   "cell_type": "code",
   "execution_count": null,
   "metadata": {
    "scrolled": true
   },
   "outputs": [],
   "source": [
    "ATE_fun('../data/highDim_dataset.csv', 0.001)"
   ]
  },
  {
   "cell_type": "code",
   "execution_count": null,
   "metadata": {},
   "outputs": [],
   "source": [
    "ATE_fun('../data/highDim_dataset.csv', 0.01)"
   ]
  },
  {
   "cell_type": "code",
   "execution_count": null,
   "metadata": {},
   "outputs": [],
   "source": [
    "ATE_fun('../data/highDim_dataset.csv', 0.1)"
   ]
  },
  {
   "cell_type": "code",
   "execution_count": null,
   "metadata": {},
   "outputs": [],
   "source": [
    "ATE_fun('../data/highDim_dataset.csv', 1)"
   ]
  },
  {
   "cell_type": "code",
   "execution_count": null,
   "metadata": {},
   "outputs": [],
   "source": [
    "ATE_fun('../data/highDim_dataset.csv', 10)"
   ]
  },
  {
   "cell_type": "code",
   "execution_count": 67,
   "metadata": {},
   "outputs": [
    {
     "data": {
      "text/plain": [
       "(-2.691286750662769, 0.6455)"
      ]
     },
     "execution_count": 67,
     "metadata": {},
     "output_type": "execute_result"
    }
   ],
   "source": [
    "ATE_fun('../data/highDim_dataset.csv', 100)"
   ]
  },
  {
   "cell_type": "code",
   "execution_count": null,
   "metadata": {},
   "outputs": [],
   "source": []
  }
 ],
 "metadata": {
  "kernelspec": {
   "display_name": "Python 3",
   "language": "python",
   "name": "python3"
  },
  "language_info": {
   "codemirror_mode": {
    "name": "ipython",
    "version": 3
   },
   "file_extension": ".py",
   "mimetype": "text/x-python",
   "name": "python",
   "nbconvert_exporter": "python",
   "pygments_lexer": "ipython3",
   "version": "3.7.6"
  }
 },
 "nbformat": 4,
 "nbformat_minor": 2
}
