{
 "cells": [
  {
   "cell_type": "markdown",
   "metadata": {},
   "source": [
    "Packages not all needed"
   ]
  },
  {
   "cell_type": "code",
   "execution_count": 1,
   "metadata": {},
   "outputs": [],
   "source": [
    "import os\n",
    "import json\n",
    "import numpy\n",
    "import pandas\n",
    "import time\n",
    "import gc\n",
    "import psutil\n",
    "import statsmodels.api\n",
    "import sklearn"
   ]
  },
  {
   "cell_type": "markdown",
   "metadata": {},
   "source": [
    "Reproducibility working directory"
   ]
  },
  {
   "cell_type": "code",
   "execution_count": 2,
   "metadata": {},
   "outputs": [
    {
     "data": {
      "text/plain": [
       "'C:\\\\Users\\\\swint\\\\Documents\\\\ADS\\\\Fall2020-Project4-group3\\\\data'"
      ]
     },
     "execution_count": 2,
     "metadata": {},
     "output_type": "execute_result"
    }
   ],
   "source": [
    "os.chdir(\"../data\")\n",
    "os.getcwd()"
   ]
  },
  {
   "cell_type": "markdown",
   "metadata": {},
   "source": [
    "Loding in data set"
   ]
  },
  {
   "cell_type": "code",
   "execution_count": 3,
   "metadata": {},
   "outputs": [],
   "source": [
    "highdim = pd.read_csv(\"highDim_dataset.csv\")"
   ]
  },
  {
   "cell_type": "code",
   "execution_count": 4,
   "metadata": {},
   "outputs": [],
   "source": [
    "lowdim = pd.read_csv(\"lowDim_dataset.csv\")"
   ]
  },
  {
   "cell_type": "markdown",
   "metadata": {},
   "source": [
    "finding the values L2 (lowdim followed by highdim)"
   ]
  },
  {
   "cell_type": "code",
   "execution_count": 5,
   "metadata": {},
   "outputs": [],
   "source": [
    "V = lowdim.drop(\"A\", axis = 1)\n",
    "V = V.drop(\"Y\", axis = 1)\n",
    "T = lowdim[\"A\"]\n",
    "clf = sklearn.skylerlinear_model.LogisticRegression(random_state=0, solver='newton-cg', penalty='l2', C=1.0).fit(V, T)\n",
    "low_prop = clf.predict_proba(V)[:,1]"
   ]
  },
  {
   "cell_type": "code",
   "execution_count": 6,
   "metadata": {},
   "outputs": [
    {
     "name": "stderr",
     "output_type": "stream",
     "text": [
      "C:\\Users\\swint\\anaconda3\\lib\\site-packages\\sklearn\\utils\\optimize.py:212: ConvergenceWarning: newton-cg failed to converge. Increase the number of iterations.\n",
      "  \"number of iterations.\", ConvergenceWarning)\n"
     ]
    }
   ],
   "source": [
    "V = highdim.drop(\"A\", axis = 1)\n",
    "V = V.drop(\"Y\", axis = 1)\n",
    "T = highdim[\"A\"]\n",
    "clf1 = sklearn.skylerlinear_model.LogisticRegression(random_state=0, solver='newton-cg', penalty='l2', C=1.0).fit(V, T)\n",
    "high_prop = clf1.predict_proba(V)[:,1]"
   ]
  },
  {
   "cell_type": "markdown",
   "metadata": {},
   "source": [
    "K = 7"
   ]
  },
  {
   "cell_type": "code",
   "execution_count": 7,
   "metadata": {},
   "outputs": [],
   "source": [
    "by = (max(low_prop) - min(low_prop)) / 7\n",
    "k = []\n",
    "for i in (low_prop):\n",
    "    if  i >= min(low_prop)and i < min(low_prop)+by:\n",
    "        k.append(i) \n",
    "by = (max(high_prop) - min(high_prop)) / 7\n",
    "K = []\n",
    "for i in (high_prop):\n",
    "    if  i >= min(high_prop)and i < min(high_prop)+by:\n",
    "        K.append(i) \n"
   ]
  },
  {
   "cell_type": "code",
   "execution_count": 8,
   "metadata": {},
   "outputs": [],
   "source": [
    "r = []\n",
    "for i in (low_prop):\n",
    "    if i >= min(low_prop)+by and i < min(low_prop)+by+by:\n",
    "        r.append(i)    \n",
    "R = []\n",
    "for i in (low_prop):\n",
    "    if i >= min(low_prop)+by and i < min(low_prop)+by+by:\n",
    "        R.append(i)   "
   ]
  },
  {
   "cell_type": "code",
   "execution_count": 9,
   "metadata": {},
   "outputs": [],
   "source": [
    "f = []\n",
    "for i in (low_prop):\n",
    "    if i >= min(low_prop)+by+by and i < min(low_prop)+by+by+by:\n",
    "        f.append(i)\n",
    "F = []\n",
    "for i in (high_prop):\n",
    "    if i >= min(high_prop)+by+by and i < min(high_prop)+by+by+by:\n",
    "        F.append(i)"
   ]
  },
  {
   "cell_type": "code",
   "execution_count": 10,
   "metadata": {},
   "outputs": [],
   "source": [
    "h = []\n",
    "for i in (low_prop): \n",
    "    if i >= min(low_prop)+by+by+by and i < min(low_prop)+by+by+by+by:\n",
    "        h.append(i)\n",
    "H = []\n",
    "for i in (high_prop): \n",
    "    if i >= min(high_prop)+by+by+by and i < min(high_prop)+by+by+by+by:\n",
    "        H.append(i)"
   ]
  },
  {
   "cell_type": "code",
   "execution_count": 11,
   "metadata": {},
   "outputs": [],
   "source": [
    "l = []\n",
    "for i in (low_prop):\n",
    "    if i >= min(low_prop)+by+by+by+by and i <= min(low_prop)+by+by+by+by+by: \n",
    "        l.append(i)\n",
    "L = []\n",
    "for i in (high_prop):\n",
    "    if i >= min(high_prop)+by+by+by+by and i <= min(high_prop)+by+by+by+by+by: \n",
    "        L.append(i)"
   ]
  },
  {
   "cell_type": "code",
   "execution_count": 12,
   "metadata": {},
   "outputs": [],
   "source": [
    "p = []\n",
    "for i in (low_prop):\n",
    "    if i >= min(low_prop)+by+by+by+by+by and i <= min(low_prop)+by+by+by+by+by+by: \n",
    "        p.append(i)\n",
    "P = []\n",
    "for i in (high_prop):\n",
    "    if i >= min(high_prop)+by+by+by+by+by and i <= min(high_prop)+by+by+by+by+by+by: \n",
    "        P.append(i)"
   ]
  },
  {
   "cell_type": "code",
   "execution_count": 13,
   "metadata": {},
   "outputs": [],
   "source": [
    "b = []\n",
    "for i in (low_prop):\n",
    "    if i >= min(low_prop)+by+by+by+by+by+by and i <= min(low_prop)+by+by+by+by+by+by+by: \n",
    "        b.append(i)\n",
    "B = []\n",
    "for i in (high_prop):\n",
    "    if i >= min(high_prop)+by+by+by+by+by+by and i <= min(high_prop)+by+by+by+by+by+by+by: \n",
    "        B.append(i)"
   ]
  },
  {
   "cell_type": "code",
   "execution_count": 14,
   "metadata": {},
   "outputs": [],
   "source": [
    "lowdim[\"low_prop\"] = low_prop\n",
    "highdim[\"high_prop\"] = high_prop"
   ]
  },
  {
   "cell_type": "markdown",
   "metadata": {},
   "source": [
    "Stratification"
   ]
  },
  {
   "cell_type": "code",
   "execution_count": 15,
   "metadata": {},
   "outputs": [
    {
     "data": {
      "text/plain": [
       "-7.469860816458916"
      ]
     },
     "execution_count": 15,
     "metadata": {},
     "output_type": "execute_result"
    }
   ],
   "source": [
    "deltaslow = []\n",
    "for i in [k,r,f,h,l,p,b]:\n",
    "    Nj = len(i) # Nj\n",
    "    N = lowdim.shape[0] # N  \n",
    "    if len(lowdim[lowdim.low_prop.isin(i)].A == 1) == 0:\n",
    "        N1 = 0\n",
    "    else:\n",
    "        N1 = 1/len(lowdim[lowdim.low_prop.isin(i)].A == 1) #N1^-1\n",
    "    if len(lowdim[lowdim.low_prop.isin(i)].A == 0) == 0:\n",
    "        N0 = 0\n",
    "    else:\n",
    "        N0 = 1/len(lowdim[lowdim.low_prop.isin(i)].A == 0) #N0^-1\n",
    "    sum1 = sum(pd.DataFrame([(lowdim[lowdim.low_prop.isin(i)])][0])[pd.DataFrame([(lowdim[lowdim.low_prop.isin(i)])][0])[\"A\"] == 1].Y)\n",
    "    sum0 = sum(pd.DataFrame([(lowdim[lowdim.low_prop.isin(i)])][0])[pd.DataFrame([(lowdim[lowdim.low_prop.isin(i)])][0])[\"A\"] == 0].Y)\n",
    "    deltaslow.append((Nj/N)*(abs(N1*sum1)-abs(N0*sum0)))\n",
    "sum(deltaslow)"
   ]
  },
  {
   "cell_type": "code",
   "execution_count": 16,
   "metadata": {},
   "outputs": [
    {
     "data": {
      "text/plain": [
       "0.42344628729511613"
      ]
     },
     "execution_count": 16,
     "metadata": {},
     "output_type": "execute_result"
    }
   ],
   "source": [
    "deltashigh = []\n",
    "for i in [K,R,F,H,L,P,B]:\n",
    "    Nj = len(i) # Nj\n",
    "    N = highdim.shape[0] # N  \n",
    "    if len(highdim[highdim.high_prop.isin(i)].A == 1) == 0:\n",
    "        N1 = 0\n",
    "    else:\n",
    "        N1 = 1/len(highdim[highdim.high_prop.isin(i)].A == 1) #N1^-1\n",
    "    if len(highdim[highdim.high_prop.isin(i)].A == 0) == 0:\n",
    "        N0 = 0\n",
    "    else:\n",
    "        N0 = 1/len(highdim[highdim.high_prop.isin(i)].A == 0) #N0^-1\n",
    "    sum1 = sum(pd.DataFrame([(highdim[highdim.high_prop.isin(i)])][0])[pd.DataFrame([(highdim[highdim.high_prop.isin(i)])][0])[\"A\"] == 1].Y)\n",
    "    sum0 = sum(pd.DataFrame([(highdim[highdim.high_prop.isin(i)])][0])[pd.DataFrame([(highdim[highdim.high_prop.isin(i)])][0])[\"A\"] == 0].Y)\n",
    "    deltashigh.append((Nj/N)*(abs(N1*sum1)-abs(N0*sum0)))\n",
    "sum(deltashigh)"
   ]
  }
 ],
 "metadata": {
  "kernelspec": {
   "display_name": "Python 3",
   "language": "python",
   "name": "python3"
  },
  "language_info": {
   "codemirror_mode": {
    "name": "ipython",
    "version": 3
   },
   "file_extension": ".py",
   "mimetype": "text/x-python",
   "name": "python",
   "nbconvert_exporter": "python",
   "pygments_lexer": "ipython3",
   "version": "3.7.6"
  }
 },
 "nbformat": 4,
 "nbformat_minor": 4
}
