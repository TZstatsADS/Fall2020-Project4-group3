{
 "cells": [
  {
   "cell_type": "markdown",
   "metadata": {},
   "source": [
    "# Project4 Causal Inference Report\n",
    "### Group 3\n",
    "### 12/04/20"
   ]
  },
  {
   "cell_type": "markdown",
   "metadata": {},
   "source": [
    "# Introduction\n",
    "\n",
    "Implement, evaluate and, compare performance and computational efficiency of three algorithms form the causal inference literature on treatment datasets (i.e. low dimensional and high dimensional datasets). The algorithms implemented were stratification, regression adjustment and, weighted regression together with L2 penalized logistic regression as the propensity score estimation method. ATE estimation and run time were used to evaluate and compare the efficiency of the causal inference algorithms."
   ]
  },
  {
   "cell_type": "markdown",
   "metadata": {},
   "source": [
    "# Required Packages"
   ]
  },
  {
   "cell_type": "code",
   "execution_count": 24,
   "metadata": {},
   "outputs": [],
   "source": [
    "import pandas as pd\n",
    "import numpy as np\n",
    "import time\n",
    "import statsmodels.api as sm\n",
    "from sklearn.linear_model import LogisticRegression\n",
    "from sklearn.linear_model import LinearRegression\n",
    "import seaborn as sns\n",
    "import copy"
   ]
  },
  {
   "cell_type": "markdown",
   "metadata": {},
   "source": [
    "# Propensity Scores Estimation Function and Description of the Process\n",
    "\n",
    "L2 penalized logistic regression was used to estimate propensity scores."
   ]
  },
  {
   "cell_type": "code",
   "execution_count": 25,
   "metadata": {},
   "outputs": [],
   "source": [
    "def propensity_score(data, lam=0.01, solver='lbfgs', max_iter=100, plot=True):\n",
    "    '''\n",
    "    Procedure: calculate propensity scores with L2 penalized logistic regression\n",
    "    \n",
    "    Parameters:\n",
    "    data - the dataframe we want to use\n",
    "    lam - coefficient for the penalty term\n",
    "    solver - solver for the logistic regression\n",
    "    max_iter - maximum iteration of the logistic regression\n",
    "    plot - bool, whether to print out the violin plot or not\n",
    "    \n",
    "    Returns:\n",
    "    1. PS - propensity score\n",
    "    2. Run time for calculating PS\n",
    "    3. Boxplot to visualize how much PS overlap of the two groups\n",
    "    '''\n",
    "    start_time = time.time()\n",
    "    T = data[['A']]\n",
    "    T = np.array(T).ravel()\n",
    "    V = data.iloc[:,2:]\n",
    "    \n",
    "    clf = LogisticRegression(random_state=0, C=lam, solver=solver, penalty='l2', max_iter=max_iter).fit(V, T)\n",
    "    PS = clf.predict_proba(V)[:,1]\n",
    "    \n",
    "    end_time = time.time()\n",
    "    run_time = end_time-start_time\n",
    "    \n",
    "    if plot:\n",
    "        plot_df = pd.DataFrame({'Treatment':T,'PS':PS})\n",
    "        #plot_df.boxplot(by='Treatment')\n",
    "        sns.violinplot(x=\"Treatment\", y=\"PS\", data=plot_df)\n",
    "    \n",
    "    print(\"Run time for L2 penalized logistic regression is {:.2f} s\".format(run_time))\n",
    "    return PS"
   ]
  },
  {
   "cell_type": "markdown",
   "metadata": {},
   "source": [
    "# Algorithm Functions and Description of the Processes"
   ]
  },
  {
   "cell_type": "markdown",
   "metadata": {},
   "source": [
    "Implemented three algorithms form the causal inference literature."
   ]
  },
  {
   "cell_type": "markdown",
   "metadata": {},
   "source": [
    "## Stratification\n",
    "\n",
    "Stratification and L2 penalized logistic regression was used to derive the ATE estemation and runtime.\n",
    "Stratification on the propensity scores involved stratifying subjects into mutually exclusive groups based on their estimated propensity scores. The approach was accomplished by dividing the subjects into five groups using the estimated propensity scores quintiles. Then with in each stratum an avrage was taken of the treated group and untreated group. The stratum-specific estimates of treatment effect were then pooled across stratum to estimate ATE.\n",
    "\n",
    "Function bellow:"
   ]
  },
  {
   "cell_type": "code",
   "execution_count": 29,
   "metadata": {},
   "outputs": [],
   "source": [
    "def ATE_fun(data, PS):\n",
    "    start_time = time.time()\n",
    "\n",
    "    data_copy = copy.copy(data)\n",
    "\n",
    "    # divide subjects into five groups using the quintiles of the estimated propensity score.\n",
    "    stratum = pd.qcut(PS, [0, 0.2, 0.4, 0.6, 0.8, 1.])\n",
    "    \n",
    "    # rename stratum\n",
    "    stratum.categories = ['a', 'b', 'c', 'd', 'e']\n",
    "    \n",
    "    # add a column to data_copy indicating which stratum each subject belongs to\n",
    "    data_copy['stratum'] = stratum\n",
    "    \n",
    "    # calculate the average outcome of treated and untreated group for each stratum\n",
    "    summary_df = data_copy[['A', 'stratum', 'Y']].groupby(['A', 'stratum']).mean()\n",
    "    \n",
    "    # calculate ATE\n",
    "    ATE = 0\n",
    "    strata = ['a', 'b', 'c', 'd', 'e']\n",
    "    \n",
    "    # calculate the difference of average outcome between treated and untreated group for each stratum\n",
    "    # sum up and then take average\n",
    "    for s in strata:\n",
    "        ATE += summary_df.loc[pd.IndexSlice[(1, s)]] - summary_df.loc[pd.IndexSlice[(0, s)]]\n",
    "    ATE /= 5\n",
    "    \n",
    "    end_time = time.time()\n",
    "\n",
    "    print(\"Estimated ATE is \", round(ATE.values[0],2))\n",
    "    print(\"Run time for ATE estimation is \",round((end_time-start_time),2))\n",
    "    return ATE, end_time-start_time"
   ]
  },
  {
   "cell_type": "markdown",
   "metadata": {},
   "source": [
    "## Regression Adjustment\n",
    "\n",
    "Regression Adjustment and L2 penalized logistic regression was used to derive the ATE estemation and runtime. The method was carried out by the removal of the effects of confounding when, estimating the effects of treatment on outcomes via covariate adjustment. \n",
    "\n",
    "The outcome variable Y was regressed on the indicator variable A and the estimated propensity score PS. Furthermore a linear regression model was used rather than a logistic regression model, simply because the data (outcomes) were continuous rather than dichotomous. The estimated coefficient on the indicator variable A was the estimated ATE.\n",
    "\n",
    "One potential downside to this method was that it assumes that the relationship between the propensity score and the outcome had been correctly modeled; in practice this can be very hard or impossible to confirm.\n",
    "\n",
    "\n",
    "Function bellow:"
   ]
  },
  {
   "cell_type": "code",
   "execution_count": 30,
   "metadata": {},
   "outputs": [],
   "source": [
    "def Regression_Adjustment(data, PS):\n",
    "    start_time = time.time()\n",
    "    A = data['A']\n",
    "    Y = data['Y']\n",
    "\n",
    "    a = []\n",
    "    for i in range(0, len(A)):\n",
    "        c = []\n",
    "        c.append(A[i])\n",
    "        c.append(PS[i])\n",
    "        a.append(c)\n",
    "\n",
    "    # Linear Regression\n",
    "    model =  LinearRegression().fit(a, Y)\n",
    "    ATE = model.coef_[0]\n",
    "    end_time = time.time()\n",
    "\n",
    "    print(\"Estimated ATE is \", round(ATE,2))\n",
    "    print(\"Run time for ATE estimation is \",round((end_time-start_time),2))\n",
    "    return ATE, end_time-start_time"
   ]
  },
  {
   "cell_type": "markdown",
   "metadata": {},
   "source": [
    "## Weighted Regression\n",
    "\n",
    "Weighted Regression and L2 penalized logistic regression was used to derive the ATE estemation and runtime. Generally speaking, the procedure was to fit a weighted regression on $Y$ with the selected covariates.\n",
    "\n",
    "To select the covariates, estimated $K$ linear regressions of the type $Y_i = \\beta_0 + \\beta_{k1} T_i + \\beta_{k2} X_{ik} + \\epsilon_i$ was used, where $K$ was the total number of covariates. The t-statistics for the test of $H_0$ that the slope coefficient $\\beta_{k2}=0$ in each of the regressions was calculated. Followed by, the calculation of the selected $Z$ for all the covariates with a t-statistics larger in absolute value than $t_{reg}=2$.\n",
    "\n",
    "The outcome variable $Y$ was regressed on the selected covariates $Z$, with the weights computed by propensity score with Inverse Propensity Weighting method. The regression function was $Y_i = \\alpha_0+\\tau T_i+\\alpha_{1}Z_{i}+\\alpha_{2}(Z_{i}-\\bar{Z})T_i+\\epsilon_i$. The estiamted coefficient $\\hat{\\tau}$ was the estimated ATE.\n",
    "\n",
    "\n",
    "Function bellow:"
   ]
  },
  {
   "cell_type": "code",
   "execution_count": 31,
   "metadata": {},
   "outputs": [],
   "source": [
    "def w_reg_ATE(data, PS, t_reg=2):\n",
    "    '''\n",
    "    Procedure:\n",
    "    1. Perform K linear regressions to select covariates to estimate ATE\n",
    "    2. Calculate weights according to propensity score\n",
    "    3. Estimate ATE using weighted regression\n",
    "    \n",
    "    Parameters:\n",
    "    data - the dataframe used to estimate ATE\n",
    "    PS -  propensity scores\n",
    "    t_reg - the threshold for choosing covariates (choosing Z)\n",
    "    '''\n",
    "    start_time = time.time()\n",
    "    \n",
    "    ### calculate weights\n",
    "    T = np.array(data[['A']]).ravel()\n",
    "    weights = T/PS + (1-T)/(1-PS)\n",
    "    \n",
    "    \n",
    "    K = data.shape[1]-2 # number of covariates in total\n",
    "    Y = data[['Y']]\n",
    "\n",
    "    t_stat_reg = np.array(())\n",
    "    for i in range(1, K+1):\n",
    "        idx = 'V'+str(i)\n",
    "        X = data[['A',idx]]\n",
    "        X = sm.add_constant(X) # adding a constant\n",
    "    \n",
    "        linear_reg = sm.OLS(Y, X).fit() \n",
    "        cov = linear_reg.cov_params()\n",
    "        std_err = np.sqrt(np.diag(cov))\n",
    "        t_stat_reg = np.append(t_stat_reg,np.array(round(linear_reg.params[2] / std_err[2],2)))\n",
    "    \n",
    "    \n",
    "    # construct required independent variables\n",
    "    T = data['A']\n",
    "    Z = data.iloc[:,2:].iloc[:,abs(t_stat_reg)>t_reg]\n",
    "    centralized_Z = data.iloc[:,2:].iloc[:,abs(t_stat_reg)>t_reg] - data.iloc[:,2:].iloc[:,abs(t_stat_reg)>t_reg].mean(axis=0)\n",
    "    centralized_Z_T = centralized_Z.multiply(T, axis='index')\n",
    "    \n",
    "    # X and Y for training weighted regression\n",
    "    X_train = pd.concat([T,Z,centralized_Z,centralized_Z_T],axis=1)\n",
    "    Y_train = np.array(Y).ravel()\n",
    "    \n",
    "    reg = LinearRegression(fit_intercept=True).fit(X_train, Y_train, sample_weight=weights)\n",
    "    ATE = reg.coef_[0]\n",
    "    \n",
    "    end_time = time.time()\n",
    "    \n",
    "    print(\"Estimated ATE is {:.2f}\".format(ATE))\n",
    "    print(\"Run time for ATE estimation is {:.2f} s\".format(end_time-start_time))\n",
    "    return ATE, end_time-start_time"
   ]
  },
  {
   "cell_type": "markdown",
   "metadata": {},
   "source": [
    "# Evaluation"
   ]
  },
  {
   "cell_type": "markdown",
   "metadata": {},
   "source": [
    "## Propensity Scores Estimations\n",
    "For causal inference, it is important for control group and treatment group to have overlapping propensity scores. The violin plot can help visualize how the propensity scores were distributed in the different groups for low and high dimensional data. "
   ]
  },
  {
   "cell_type": "code",
   "execution_count": 7,
   "metadata": {},
   "outputs": [],
   "source": [
    "### Read in data files\n",
    "\n",
    "# read low dimensional data\n",
    "lowDim_data = pd.read_csv('../data/lowDim_dataset.csv')\n",
    "\n",
    "# read high dimensional data\n",
    "highDim_data = pd.read_csv('../data/highDim_dataset.csv')"
   ]
  },
  {
   "cell_type": "code",
   "execution_count": 8,
   "metadata": {},
   "outputs": [
    {
     "name": "stdout",
     "output_type": "stream",
     "text": [
      "Run time for L2 penalized logistic regression is 0.03 s\n"
     ]
    },
    {
     "data": {
      "image/png": "[encoded data removed]",
      "text/plain": [
       "<Figure size 432x288 with 1 Axes>"
      ]
     },
     "metadata": {
      "needs_background": "light"
     },
     "output_type": "display_data"
    }
   ],
   "source": [
    "# Propensity Scores for low dim data\n",
    "PS_low = propensity_score(lowDim_data, lam=2, solver='liblinear', max_iter=1000)"
   ]
  },
  {
   "cell_type": "markdown",
   "metadata": {},
   "source": [
    "For low dimensional data, with $\\lambda$ (parameter for the penalty term) chosen as 2, the distribution of propensity scores for both groups are similar, indicating an acceptable overlapping. Therefore, we would use this PS estimation for ATE estimation."
   ]
  },
  {
   "cell_type": "code",
   "execution_count": 9,
   "metadata": {},
   "outputs": [
    {
     "name": "stdout",
     "output_type": "stream",
     "text": [
      "Run time for L2 penalized logistic regression is 2.28 s\n"
     ]
    },
    {
     "data": {
      "image/png": "[encoded data removed]",
      "text/plain": [
       "<Figure size 432x288 with 1 Axes>"
      ]
     },
     "metadata": {
      "needs_background": "light"
     },
     "output_type": "display_data"
    }
   ],
   "source": [
    "# Propensity Scores for high dim data\n",
    "PS_high = propensity_score(highDim_data, lam=2, solver='liblinear', max_iter=1000)"
   ]
  },
  {
   "cell_type": "markdown",
   "metadata": {},
   "source": [
    "Similarly, for high dimensional data, we chose $\\lambda = 2$."
   ]
  },
  {
   "cell_type": "markdown",
   "metadata": {},
   "source": [
    "## Outcomes of ATE Estimations"
   ]
  },
  {
   "cell_type": "markdown",
   "metadata": {},
   "source": [
    "## Stratification"
   ]
  },
  {
   "cell_type": "code",
   "execution_count": 38,
   "metadata": {},
   "outputs": [
    {
     "name": "stdout",
     "output_type": "stream",
     "text": [
      "Low dimensional:\n",
      "Estimated ATE is  2.88\n",
      "Run time for ATE estimation is  0.05\n",
      "High dimensional:\n",
      "Estimated ATE is  -2.77\n",
      "Run time for ATE estimation is  0.06\n"
     ]
    }
   ],
   "source": [
    "print(\"Low dimensional:\");stra_ate_low, stra_rt_low = ATE_fun(lowDim_data, PS_low);print(\"High dimensional:\");stra_ate_high, stra_rt_high = ATE_fun(highDim_data, PS_high)"
   ]
  },
  {
   "cell_type": "markdown",
   "metadata": {},
   "source": [
    "## Regression Adjustment"
   ]
  },
  {
   "cell_type": "code",
   "execution_count": 39,
   "metadata": {},
   "outputs": [
    {
     "name": "stdout",
     "output_type": "stream",
     "text": [
      "Low dimensional:\n",
      "Estimated ATE is  2.5\n",
      "Run time for ATE estimation is  0.03\n",
      "High dimensional:\n",
      "Estimated ATE is  -2.99\n",
      "Run time for ATE estimation is  0.19\n"
     ]
    }
   ],
   "source": [
    "print(\"Low dimensional:\");ra_ate_low, ra_rt_low = Regression_Adjustment(lowDim_data, PS_low);print(\"High dimensional:\");ra_ate_high, ra_rt_high = Regression_Adjustment(highDim_data, PS_high)"
   ]
  },
  {
   "cell_type": "markdown",
   "metadata": {},
   "source": [
    "## Weighted Regression"
   ]
  },
  {
   "cell_type": "code",
   "execution_count": 40,
   "metadata": {},
   "outputs": [
    {
     "name": "stdout",
     "output_type": "stream",
     "text": [
      "Low dimensional:\n",
      "Estimated ATE is 2.52\n",
      "Run time for ATE estimation is 0.55 s\n",
      "High dimensional:\n",
      "Estimated ATE is -2.96\n",
      "Run time for ATE estimation is 4.04 s\n"
     ]
    }
   ],
   "source": [
    "print(\"Low dimensional:\");wr_ate_low, wr_rt_low = w_reg_ATE(lowDim_data, PS_low);print(\"High dimensional:\");wr_ate_high, wr_rt_high = w_reg_ATE(highDim_data, PS_high)"
   ]
  },
  {
   "cell_type": "markdown",
   "metadata": {},
   "source": [
    "## Comparison\n",
    "\n",
    "Absolute error and relative error were used as the metrics to evaluate the ATE estimates. "
   ]
  },
  {
   "cell_type": "code",
   "execution_count": 41,
   "metadata": {},
   "outputs": [],
   "source": [
    "true_low = 2.5\n",
    "true_high = -3.0\n",
    "\n",
    "def evaluate(truth, est):\n",
    "    abs_error = abs(est-truth)\n",
    "    relative_error = abs(est-truth)/abs(truth)\n",
    "    return round(abs_error,2), format(relative_error,'.2%')"
   ]
  },
  {
   "cell_type": "code",
   "execution_count": 42,
   "metadata": {},
   "outputs": [],
   "source": [
    "# for low dim data\n",
    "stra_abs_err_l, stra_rela_err_l = evaluate(true_low, stra_ate_low[0])\n",
    "ra_abs_err_l, ra_rela_err_l = evaluate(true_low, ra_ate_low)\n",
    "wr_abs_err_l, wr_rela_err_l = evaluate(true_low, wr_ate_low)\n",
    "\n",
    "# for high dim data\n",
    "stra_abs_err_h, stra_rela_err_h = evaluate(true_high, stra_ate_high[0])\n",
    "ra_abs_err_h, ra_rela_err_h = evaluate(true_high, ra_ate_high)\n",
    "wr_abs_err_h, wr_rela_err_h = evaluate(true_high, wr_ate_high)"
   ]
  },
  {
   "cell_type": "code",
   "execution_count": 45,
   "metadata": {},
   "outputs": [
    {
     "name": "stdout",
     "output_type": "stream",
     "text": [
      "Low dimensional:\n"
     ]
    },
    {
     "data": {
      "text/html": [
       "<div>\n",
       "<style scoped>\n",
       "    .dataframe tbody tr th:only-of-type {\n",
       "        vertical-align: middle;\n",
       "    }\n",
       "\n",
       "    .dataframe tbody tr th {\n",
       "        vertical-align: top;\n",
       "    }\n",
       "\n",
       "    .dataframe thead th {\n",
       "        text-align: right;\n",
       "    }\n",
       "</style>\n",
       "<table border=\"1\" class=\"dataframe\">\n",
       "  <thead>\n",
       "    <tr style=\"text-align: right;\">\n",
       "      <th></th>\n",
       "      <th>Algorithm</th>\n",
       "      <th>Run Time (s)</th>\n",
       "      <th>ATE Est</th>\n",
       "      <th>Abs Error</th>\n",
       "      <th>Relative Error</th>\n",
       "    </tr>\n",
       "  </thead>\n",
       "  <tbody>\n",
       "    <tr>\n",
       "      <th>0</th>\n",
       "      <td>Stratification</td>\n",
       "      <td>0.054920</td>\n",
       "      <td>2.879272</td>\n",
       "      <td>0.38</td>\n",
       "      <td>15.17%</td>\n",
       "    </tr>\n",
       "    <tr>\n",
       "      <th>1</th>\n",
       "      <td>Regression Adjustment</td>\n",
       "      <td>0.033917</td>\n",
       "      <td>2.502966</td>\n",
       "      <td>0.00</td>\n",
       "      <td>0.12%</td>\n",
       "    </tr>\n",
       "    <tr>\n",
       "      <th>2</th>\n",
       "      <td>Weighted Regression</td>\n",
       "      <td>0.554178</td>\n",
       "      <td>2.523955</td>\n",
       "      <td>0.02</td>\n",
       "      <td>0.96%</td>\n",
       "    </tr>\n",
       "  </tbody>\n",
       "</table>\n",
       "</div>"
      ],
      "text/plain": [
       "               Algorithm  Run Time (s)   ATE Est  Abs Error Relative Error\n",
       "0         Stratification      0.054920  2.879272       0.38         15.17%\n",
       "1  Regression Adjustment      0.033917  2.502966       0.00          0.12%\n",
       "2    Weighted Regression      0.554178  2.523955       0.02          0.96%"
      ]
     },
     "execution_count": 45,
     "metadata": {},
     "output_type": "execute_result"
    }
   ],
   "source": [
    "summary_low = pd.DataFrame({'Algorithm':['Stratification','Regression Adjustment','Weighted Regression'],\n",
    "             'Run Time (s)':[stra_rt_low, ra_rt_low, wr_rt_low],\n",
    "             'ATE Est':[stra_ate_low[0], ra_ate_low, wr_ate_low],\n",
    "             'Abs Error':[stra_abs_err_l, ra_abs_err_l, wr_abs_err_l],\n",
    "             'Relative Error':[stra_rela_err_l, ra_rela_err_l, wr_rela_err_l]})\n",
    "\n",
    "print(\"Low dimensional:\");summary_low"
   ]
  },
  {
   "cell_type": "code",
   "execution_count": 46,
   "metadata": {},
   "outputs": [
    {
     "name": "stdout",
     "output_type": "stream",
     "text": [
      "High dimensional:\n"
     ]
    },
    {
     "data": {
      "text/html": [
       "<div>\n",
       "<style scoped>\n",
       "    .dataframe tbody tr th:only-of-type {\n",
       "        vertical-align: middle;\n",
       "    }\n",
       "\n",
       "    .dataframe tbody tr th {\n",
       "        vertical-align: top;\n",
       "    }\n",
       "\n",
       "    .dataframe thead th {\n",
       "        text-align: right;\n",
       "    }\n",
       "</style>\n",
       "<table border=\"1\" class=\"dataframe\">\n",
       "  <thead>\n",
       "    <tr style=\"text-align: right;\">\n",
       "      <th></th>\n",
       "      <th>Algorithm</th>\n",
       "      <th>Run Time (s)</th>\n",
       "      <th>ATE Est</th>\n",
       "      <th>Abs Error</th>\n",
       "      <th>Relative Error</th>\n",
       "    </tr>\n",
       "  </thead>\n",
       "  <tbody>\n",
       "    <tr>\n",
       "      <th>0</th>\n",
       "      <td>Stratification</td>\n",
       "      <td>0.057794</td>\n",
       "      <td>-2.771973</td>\n",
       "      <td>0.23</td>\n",
       "      <td>7.60%</td>\n",
       "    </tr>\n",
       "    <tr>\n",
       "      <th>1</th>\n",
       "      <td>Regression Adjustment</td>\n",
       "      <td>0.194488</td>\n",
       "      <td>-2.985579</td>\n",
       "      <td>0.01</td>\n",
       "      <td>0.48%</td>\n",
       "    </tr>\n",
       "    <tr>\n",
       "      <th>2</th>\n",
       "      <td>Weighted Regression</td>\n",
       "      <td>4.036197</td>\n",
       "      <td>-2.964308</td>\n",
       "      <td>0.04</td>\n",
       "      <td>1.19%</td>\n",
       "    </tr>\n",
       "  </tbody>\n",
       "</table>\n",
       "</div>"
      ],
      "text/plain": [
       "               Algorithm  Run Time (s)   ATE Est  Abs Error Relative Error\n",
       "0         Stratification      0.057794 -2.771973       0.23          7.60%\n",
       "1  Regression Adjustment      0.194488 -2.985579       0.01          0.48%\n",
       "2    Weighted Regression      4.036197 -2.964308       0.04          1.19%"
      ]
     },
     "execution_count": 46,
     "metadata": {},
     "output_type": "execute_result"
    }
   ],
   "source": [
    "summary_high = pd.DataFrame({'Algorithm':['Stratification','Regression Adjustment','Weighted Regression'],\n",
    "             'Run Time (s)':[stra_rt_high, ra_rt_high, wr_rt_high],\n",
    "             'ATE Est':[stra_ate_high[0], ra_ate_high, wr_ate_high],\n",
    "             'Abs Error':[stra_abs_err_h, ra_abs_err_h, wr_abs_err_h],\n",
    "             'Relative Error':[stra_rela_err_h, ra_rela_err_h, wr_rela_err_h]})\n",
    "\n",
    "print(\"High dimensional:\");summary_high"
   ]
  },
  {
   "cell_type": "markdown",
   "metadata": {},
   "source": [
    "## Comparison"
   ]
  },
  {
   "cell_type": "markdown",
   "metadata": {},
   "source": [
    "After comparing with the real ATE, **Regression Adjustment** was the best method for low dimensional data, with a very accurate estimate of relative error as small as 0.12%. \n",
    "After comparing with the real ATE, **Regression Adjustment** was the best method for high dimensional data, with a very accurate estimate of relative error as small as 0.03%. One drawback of this method was that Stratification had a faster run time (although not by much).\n",
    "\n",
    "For both low and high dimensional datasets, it was found that the two regression algorithms perform better than Stratification. But the two regression algorithms had slower computational speed. A comperison between the two regression algorithms, Regression Adjustment was better than Weighted Regression in terms of computing speed and estimation accuracy."
   ]
  }
 ],
 "metadata": {
  "kernelspec": {
   "display_name": "Python 3",
   "language": "python",
   "name": "python3"
  },
  "language_info": {
   "codemirror_mode": {
    "name": "ipython",
    "version": 3
   },
   "file_extension": ".py",
   "mimetype": "text/x-python",
   "name": "python",
   "nbconvert_exporter": "python",
   "pygments_lexer": "ipython3",
   "version": "3.7.6"
  }
 },
 "nbformat": 4,
 "nbformat_minor": 4
}
