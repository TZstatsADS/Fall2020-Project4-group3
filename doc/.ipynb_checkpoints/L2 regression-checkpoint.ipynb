{
 "cells": [
  {
   "cell_type": "markdown",
   "metadata": {},
   "source": [
    "Packages not all needed"
   ]
  },
  {
   "cell_type": "code",
   "execution_count": 62,
   "metadata": {},
   "outputs": [],
   "source": [
    "import os\n",
    "import json\n",
    "import numpy as np\n",
    "import pandas as pd\n",
    "from pandas.io.json import json_normalize\n",
    "import time\n",
    "from datetime import datetime\n",
    "import gc\n",
    "import psutil\n",
    "from sklearn.preprocessing import LabelEncoder\n",
    "#import statsmodels as sm\n",
    "import statsmodels.api as sm"
   ]
  },
  {
   "cell_type": "markdown",
   "metadata": {},
   "source": [
    "reproducibility working directory"
   ]
  },
  {
   "cell_type": "code",
   "execution_count": 63,
   "metadata": {},
   "outputs": [
    {
     "data": {
      "text/plain": [
       "'C:\\\\Users\\\\swint\\\\Documents\\\\ADS\\\\Fall2020-Project4-group3\\\\data'"
      ]
     },
     "execution_count": 63,
     "metadata": {},
     "output_type": "execute_result"
    }
   ],
   "source": [
    "os.chdir(\"../data\")\n",
    "os.getcwd()"
   ]
  },
  {
   "cell_type": "markdown",
   "metadata": {},
   "source": [
    "Loding in data set"
   ]
  },
  {
   "cell_type": "code",
   "execution_count": 64,
   "metadata": {},
   "outputs": [],
   "source": [
    "highdim = pd.read_csv(\"highDim_dataset.csv\")"
   ]
  },
  {
   "cell_type": "code",
   "execution_count": 65,
   "metadata": {},
   "outputs": [],
   "source": [
    "lowdim = pd.read_csv(\"lowDim_dataset.csv\").head()"
   ]
  },
  {
   "cell_type": "markdown",
   "metadata": {},
   "source": [
    "finding the values L2 (lowdim followed by highdim)"
   ]
  },
  {
   "cell_type": "code",
   "execution_count": 66,
   "metadata": {},
   "outputs": [
    {
     "data": {
      "text/plain": [
       "array([ 2.45015207e+00,  1.88592464e+00,  4.26884583e-17,  5.71772692e-17,\n",
       "        8.69462970e-01, -6.13168457e-02, -3.44907257e-01, -1.86505406e-01,\n",
       "        1.84513489e+00, -1.20489943e-01,  0.00000000e+00,  0.00000000e+00,\n",
       "       -1.55846983e-01,  4.69861726e-03,  0.00000000e+00,  1.21419698e+00,\n",
       "        0.00000000e+00,  2.17622941e+00,  3.53570401e-02, -8.98315198e-02,\n",
       "       -2.50377120e-01,  2.50959568e+00,  3.82030645e+00])"
      ]
     },
     "execution_count": 66,
     "metadata": {},
     "output_type": "execute_result"
    }
   ],
   "source": [
    "model = sm.regression.linear_model.OLS(lowdim[\"Y\"], lowdim.drop(\"Y\", axis = 1))\n",
    "(model.fit_regularized(method='elastic_net', alpha=1.0, L1_wt=0.0)).params"
   ]
  },
  {
   "cell_type": "code",
   "execution_count": 67,
   "metadata": {},
   "outputs": [
    {
     "data": {
      "text/plain": [
       "array([-5.26719501e-01,  2.50764309e-03,  1.09659245e-02, -6.90861361e-02,\n",
       "       -1.01399639e-02, -1.52007184e-02,  2.12111095e-02, -7.40375115e-04,\n",
       "        3.86176302e-02,  8.89828636e-03, -1.70742490e-01, -1.02148617e-02,\n",
       "       -4.34811287e-03, -1.32621135e-02, -1.84922546e-02,  6.44762283e-04,\n",
       "       -1.37878825e-04, -9.15277286e-03,  8.91306516e-03, -3.99487984e-02,\n",
       "        1.43007851e-03, -5.42394489e-02,  1.90257232e-02, -7.91665054e-03,\n",
       "       -2.63566038e-03, -4.20983500e-03,  2.22279221e-02, -6.04521323e-02,\n",
       "       -2.98841622e-02, -6.16403272e-04,  7.94228464e-03,  5.49882194e-04,\n",
       "        1.28626358e-02, -1.64309619e-05,  2.19544547e-02, -1.72825511e-02,\n",
       "       -2.42437353e-03,  7.84923185e-04,  3.17364438e-05,  8.20612624e-03,\n",
       "        1.08340549e-04,  4.07975339e-03, -1.08316380e-02,  2.23933531e-02,\n",
       "       -2.62409681e-02,  2.59328888e-01,  1.64182298e-02, -8.84625763e-03,\n",
       "        1.32278940e-03,  2.60066215e-02, -1.66973327e-02,  3.61209931e-02,\n",
       "       -2.04371880e-02,  1.46475041e-03,  7.50433953e-03,  2.06683228e-02,\n",
       "       -1.94871234e-03,  2.00574175e-02,  4.13761573e-02, -7.18383155e-03,\n",
       "       -3.67968523e-03,  3.39756057e-03,  2.37131922e-03,  4.77608214e-03,\n",
       "       -9.92061938e-03, -5.34660675e-03,  6.08446823e-03,  4.96972155e-03,\n",
       "       -6.72620086e-03,  7.18796824e-03,  1.14060332e-03, -5.88529547e-03,\n",
       "        4.06327346e-03, -3.43313509e-03, -3.34641701e-03, -8.53207859e-03,\n",
       "       -4.79000495e-03,  5.74263918e-03, -9.72600728e-03,  5.24041643e-03,\n",
       "        1.03193896e-02,  3.59252792e-02, -2.10517690e-03, -1.27814395e-02,\n",
       "        1.10908761e-02,  1.33943097e-02, -2.61754135e-02,  4.73797865e-02,\n",
       "       -3.20186586e-02, -6.32249325e-02, -1.83536336e-01, -1.16148831e+00,\n",
       "       -5.64090354e-02, -1.00488920e-01, -1.05198724e-02,  2.09315924e-03,\n",
       "        1.37497603e-02, -2.70065259e-02,  1.83851070e-03, -1.83957678e-03,\n",
       "        3.57911983e-03,  1.89802710e-03,  4.63263007e-02, -2.63979152e-03,\n",
       "        1.45739599e-03, -1.25411867e-02,  8.92861269e-03, -9.38647295e-03,\n",
       "       -1.13386794e-02,  1.84094405e-02,  5.71529378e-03,  2.16584798e-03,\n",
       "       -1.36102156e-02,  4.69487477e-03,  3.13760129e-03, -2.38159553e-03,\n",
       "        3.21334342e-03,  1.58849246e-02,  9.12023108e-04,  6.96799162e-04,\n",
       "       -8.57992938e-03, -3.31465034e-03, -4.24520844e-03,  4.19617115e-03,\n",
       "       -9.89631273e-03, -4.59888825e-04,  1.57986113e-02, -1.92195253e-02,\n",
       "        9.23762070e-03,  1.44149496e-02, -1.78568079e-02,  4.66431016e-03,\n",
       "        2.71021858e-03,  1.69457217e-02,  3.71790311e-03,  1.78602169e-03,\n",
       "        3.42857281e-03, -5.39212657e-03,  9.05871390e-02, -1.84864330e-02,\n",
       "       -1.07186542e-03, -1.09114490e-03, -1.52447900e-02,  7.13148189e-03,\n",
       "       -1.20589373e-02, -2.23355409e-02,  1.57703352e-02,  1.35631166e-02,\n",
       "        6.83200072e-02,  4.08008899e-02,  1.53372104e-01,  2.52307404e-02,\n",
       "        2.36619609e-03,  9.23892706e-03, -4.49690654e-03,  2.70873760e-03,\n",
       "       -2.76236117e-03,  3.46461199e-03, -3.53082449e-03, -1.99586097e-02,\n",
       "        4.66012503e-03,  3.48996885e-02,  1.13782794e-03, -1.49732211e-03,\n",
       "       -5.37041946e-06,  6.99645363e-03, -3.95840390e-03, -1.35258625e-02,\n",
       "       -4.40628844e-04,  8.27927371e-03, -1.00751901e-03,  5.27271985e-04,\n",
       "       -5.43100607e-03,  1.55902536e-02, -1.29367925e-02,  2.03557079e-03,\n",
       "        1.23616956e-03, -1.43997964e-03,  1.82477090e-02, -9.67734297e-03,\n",
       "       -1.76905846e-02, -1.99243597e-02,  4.01949623e-02, -1.44740990e-02,\n",
       "       -1.74507449e-03, -4.53421397e-03])"
      ]
     },
     "execution_count": 67,
     "metadata": {},
     "output_type": "execute_result"
    }
   ],
   "source": [
    "model = sm.regression.linear_model.OLS(highdim[\"Y\"], highdim.drop(\"Y\", axis = 1))\n",
    "(model.fit_regularized(method='elastic_net', alpha=1.0, L1_wt=0.0)).params"
   ]
  }
 ],
 "metadata": {
  "kernelspec": {
   "display_name": "Python 3",
   "language": "python",
   "name": "python3"
  },
  "language_info": {
   "codemirror_mode": {
    "name": "ipython",
    "version": 3
   },
   "file_extension": ".py",
   "mimetype": "text/x-python",
   "name": "python",
   "nbconvert_exporter": "python",
   "pygments_lexer": "ipython3",
   "version": "3.7.6"
  }
 },
 "nbformat": 4,
 "nbformat_minor": 4
}
