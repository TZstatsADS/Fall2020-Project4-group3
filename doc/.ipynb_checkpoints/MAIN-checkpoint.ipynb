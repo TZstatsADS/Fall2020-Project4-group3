{
 "cells": [
  {
   "cell_type": "markdown",
   "metadata": {},
   "source": [
    "# Main\n",
    "### Group 3\n",
    "### 12/04/20"
   ]
  },
  {
   "cell_type": "markdown",
   "metadata": {},
   "source": [
    "Packages needed for evaluating proposed causal inference. The “if\n",
    "statement” checks if it is needed. The Library statements are used to call forth the function."
   ]
  },
  {
   "cell_type": "code",
   "execution_count": 6,
   "metadata": {},
   "outputs": [],
   "source": [
    "import importlib.util\n",
    "listpack = []\n",
    "# For illustrative purposes.\n",
    "\n",
    "pack_name = \"statsmodels.api sklearn.linear_model pandas.io.json\".split()\n",
    "\n",
    "for packages in pack_name:\n",
    "    spec = importlib.util.find_spec(packages)\n",
    "    if spec is None:\n",
    "        listpack.append(pack_name)\n",
    "if len(listpack) != 0:\n",
    "    listpack = listpack[0]\n",
    "for packages in listpack:\n",
    "    globals()[packages] = __import__(packages) "
   ]
  }
 ],
 "metadata": {
  "kernelspec": {
   "display_name": "Python 3",
   "language": "python",
   "name": "python3"
  },
  "language_info": {
   "codemirror_mode": {
    "name": "ipython",
    "version": 3
   },
   "file_extension": ".py",
   "mimetype": "text/x-python",
   "name": "python",
   "nbconvert_exporter": "python",
   "pygments_lexer": "ipython3",
   "version": "3.7.6"
  }
 },
 "nbformat": 4,
 "nbformat_minor": 4
}
