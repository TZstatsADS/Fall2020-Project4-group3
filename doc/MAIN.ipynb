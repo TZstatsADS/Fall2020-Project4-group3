{
 "cells": [
  {
   "cell_type": "markdown",
   "metadata": {},
   "source": [
    "# Main\n",
    "### Group 3\n",
    "### 12/04/20"
   ]
  },
  {
   "cell_type": "markdown",
   "metadata": {},
   "source": [
    "# Introduction: \n",
    "\n",
    "The gole of the project is to test multiple causal inference models (Weighted Regression, Stratification and, Regression Adjustment) to see which one is best suited for the generated data sets (low dimensions and high dimensional datasets).After cross validating using L2 regression to get the best estimated expected level of fit of the model to the data set that is independent of the data that were used to train the model, we found that the propensity scores found from cross validating were not vastly better. Meaning the overlap between treatment and control was not as significant as the overlap from the propensity scores obtained from the L2 regression using lambda equals 2. Therefore, we simply took the propensity scores obtained from the L2 regression using lambda equals 2.Furthermore, using these propensity scores were able to find the best model in terms of runtime and ATE that accurately reflects the actual ATE."
   ]
  },
  {
   "cell_type": "markdown",
   "metadata": {},
   "source": [
    "## Packages needed for study."
   ]
  },
  {
   "cell_type": "code",
   "execution_count": 1,
   "metadata": {},
   "outputs": [],
   "source": [
    "import importlib.util\n",
    "listpack = []\n",
    "# For illustrative purposes.\n",
    "pack_name = \"sklearn.linear_model os json numpy pandas time gc psutil statsmodels.api sklearn sklearn.pipeline sklearn.linear_model sklearn.linear_model sklearn.ensemble sklearn.preprocessing sklearn.feature_selection sklearn.model_selection\".split()\n",
    "for packages in pack_name:\n",
    "    spec = importlib.util.find_spec(packages)\n",
    "    if (spec is not None):\n",
    "        listpack.append(pack_name)\n",
    "if len(listpack) != 0:\n",
    "    listpack = listpack[0]\n",
    "for packages in listpack:\n",
    "    globals()[packages] = importlib.import_module(packages)\n",
    "import statsmodels.api    "
   ]
  },
  {
   "cell_type": "markdown",
   "metadata": {},
   "source": [
    "## Read in Data files"
   ]
  },
  {
   "cell_type": "code",
   "execution_count": 2,
   "metadata": {},
   "outputs": [],
   "source": [
    "### read low dimensional data\n",
    "lowDim_data = pandas.read_csv('../data/lowDim_dataset.csv')"
   ]
  },
  {
   "cell_type": "code",
   "execution_count": 3,
   "metadata": {},
   "outputs": [],
   "source": [
    "### read high dimensional data\n",
    "highDim_data = pandas.read_csv('../data/highDim_dataset.csv')"
   ]
  },
  {
   "cell_type": "markdown",
   "metadata": {},
   "source": [
    "## L2 Regularized Regression to get the propensity scores"
   ]
  },
  {
   "cell_type": "code",
   "execution_count": 4,
   "metadata": {},
   "outputs": [],
   "source": [
    "def propensity_score(data, lam=0.01, solver='lbfgs', max_iter=100, plot=True):\n",
    "    '''\n",
    "    Procedure: calculate propensity scores with L2 penalized logistic regression\n",
    "    \n",
    "    Parameters:\n",
    "    data - the dataframe we want to use\n",
    "    lam - coefficient for the penalty term\n",
    "    solver - solver for the logistic regression\n",
    "    max_iter - maximum iteration of the logistic regression\n",
    "    plot - bool,whether to print out the boxplot\n",
    "    \n",
    "    Returns:\n",
    "    1. PS - propensity score\n",
    "    2. Run time for calculating PS\n",
    "    3. Boxplot to visualize how much PS overlap of the two groups\n",
    "    '''\n",
    "    start_time = time.time()\n",
    "    T = data[['A']]\n",
    "    T = numpy.array(T).ravel()\n",
    "    V = data.iloc[:,2:]\n",
    "    \n",
    "    clf = sklearn.linear_model.LogisticRegression(random_state=0, C=lam, solver=solver, penalty='l2', max_iter=max_iter).fit(V, T)\n",
    "    PS = clf.predict_proba(V)[:,1]\n",
    "    \n",
    "    end_time = time.time()\n",
    "    run_time = end_time-start_time\n",
    "    \n",
    "    if plot:\n",
    "        plot_df = pandas.DataFrame({'Treatment':T,'PS':PS})\n",
    "        plot_df.boxplot(by='Treatment')\n",
    "    \n",
    "    print(\"Run time for L2 penalized logistic regression is {:.2f} s\".format(run_time))\n",
    "    return PS"
   ]
  },
  {
   "cell_type": "markdown",
   "metadata": {},
   "source": [
    "## Propensity scores"
   ]
  },
  {
   "cell_type": "markdown",
   "metadata": {},
   "source": [
    "Explain what the bargraphs are for"
   ]
  },
  {
   "cell_type": "code",
   "execution_count": 5,
   "metadata": {},
   "outputs": [
    {
     "name": "stdout",
     "output_type": "stream",
     "text": [
      "Run time for L2 penalized logistic regression is 2.78 s\n"
     ]
    },
    {
     "data": {
      "image/png": "[encoded data removed]",
      "text/plain": [
       "<Figure size 432x288 with 1 Axes>"
      ]
     },
     "metadata": {
      "needs_background": "light"
     },
     "output_type": "display_data"
    }
   ],
   "source": [
    "### read high dimensional data Propensity scores\n",
    "PS_high = propensity_score(highDim_data, lam=2, solver='liblinear', max_iter=1000)"
   ]
  },
  {
   "cell_type": "code",
   "execution_count": 6,
   "metadata": {},
   "outputs": [
    {
     "name": "stdout",
     "output_type": "stream",
     "text": [
      "Run time for L2 penalized logistic regression is 0.02 s\n"
     ]
    },
    {
     "data": {
      "image/png": "[encoded data removed]",
      "text/plain": [
       "<Figure size 432x288 with 1 Axes>"
      ]
     },
     "metadata": {
      "needs_background": "light"
     },
     "output_type": "display_data"
    }
   ],
   "source": [
    "### read low dimensional data Propensity scores\n",
    "PS_low = propensity_score(lowDim_data, lam=2, solver='liblinear', max_iter=1000)"
   ]
  },
  {
   "cell_type": "markdown",
   "metadata": {},
   "source": [
    "## Causal Inference Methods"
   ]
  },
  {
   "cell_type": "markdown",
   "metadata": {},
   "source": [
    "Weighted Regression"
   ]
  },
  {
   "cell_type": "code",
   "execution_count": 7,
   "metadata": {},
   "outputs": [],
   "source": [
    "def w_reg_ATE(data, PS, t_reg=2):\n",
    "    '''\n",
    "    Procedure:\n",
    "    1. Perform K linear regressions to select covariates to estimate ATE\n",
    "    2. Calculate weights according to propensity score\n",
    "    3. Estimate ATE using weighted regression\n",
    "    \n",
    "    Parameters:\n",
    "    data - the dataframe used to estimate ATE\n",
    "    PS -  propensity scores\n",
    "    t_reg - the threshold for choosing covariates (choosing Z)\n",
    "    '''\n",
    "    start_time = time.time()\n",
    "    \n",
    "    ### calculate weights\n",
    "    T = numpy.array(data[['A']]).ravel()\n",
    "    weights = T/PS + (1-T)/(1-PS)\n",
    "    \n",
    "    \n",
    "    K = data.shape[1]-2 # number of covariates in total\n",
    "    Y = data[['Y']]\n",
    "\n",
    "    t_stat_reg = numpy.array(())\n",
    "    for i in range(1, K+1):\n",
    "        idx = 'V'+str(i)\n",
    "        X = data[['A',idx]]\n",
    "        X = statsmodels.api.add_constant(X) # adding a constant\n",
    "    \n",
    "        linear_reg = statsmodels.api.OLS(Y, X).fit() \n",
    "        cov = linear_reg.cov_params()\n",
    "        std_err = numpy.sqrt(numpy.diag(cov))\n",
    "        t_stat_reg = numpy.append(t_stat_reg,numpy.array(round(linear_reg.params[2] / std_err[2],2)))\n",
    "    \n",
    "    \n",
    "    # construct required independent variables\n",
    "    T = data['A']\n",
    "    Z = data.iloc[:,2:].iloc[:,abs(t_stat_reg)>t_reg]\n",
    "    centralized_Z = data.iloc[:,2:].iloc[:,abs(t_stat_reg)>t_reg] - \\\n",
    "                data.iloc[:,2:].iloc[:,abs(t_stat_reg)>t_reg].mean(axis=0)\n",
    "    centralized_Z_T = centralized_Z.multiply(T, axis='index')\n",
    "    \n",
    "    # X and Y for training weighted regression\n",
    "    X_train = pandas.concat([T,Z,centralized_Z,centralized_Z_T],axis=1)\n",
    "    Y_train = numpy.array(Y).ravel()\n",
    "    \n",
    "    reg = sklearn.linear_model.LinearRegression(fit_intercept=True).fit(X_train, Y_train, sample_weight=weights)\n",
    "    ATE = reg.coef_[0]\n",
    "    \n",
    "    end_time = time.time()\n",
    "    \n",
    "    print(\"Estimated ATE is {:.2f}\".format(ATE))\n",
    "    print(\"Run time for ATE estimation is {:.2f} s\".format(end_time-start_time))"
   ]
  },
  {
   "cell_type": "markdown",
   "metadata": {},
   "source": [
    "Stratification"
   ]
  },
  {
   "cell_type": "code",
   "execution_count": 8,
   "metadata": {},
   "outputs": [],
   "source": [
    "def ATE_fun(data, PS):\n",
    "    start_time = time.time()\n",
    "\n",
    "    data = data\n",
    "    #X = data.iloc[:, 2:]\n",
    "    #A = data['A']\n",
    "    #clf = sklearn.linear_model.LogisticRegression(random_state=0, solver = 'lbfgs', penalty = 'l2', C = C, max_iter = 10000).fit(X, A)\n",
    "    #PS = clf.predict_proba(X)[:, 1]\n",
    "    stratum = pandas.qcut(PS, [0, 0.2, 0.4, 0.6, 0.8, 1.])\n",
    "    stratum.categories = ['a', 'b', 'c', 'd', 'e']\n",
    "    data['stratum'] = stratum\n",
    "    summary_df = data[['A', 'stratum', 'Y']].groupby(['A', 'stratum']).mean()\n",
    "    ATE = 0\n",
    "    strata = ['a', 'b', 'c', 'd', 'e']\n",
    "    for s in strata:\n",
    "        ATE += summary_df.loc[pandas.IndexSlice[(1, s)]] - summary_df.loc[pandas.IndexSlice[(0, s)]]\n",
    "    ATE /= 5\n",
    "    \n",
    "    end_time = time.time()\n",
    "\n",
    "    print(\"Estimated ATE is \", round(ATE.values[0],2))\n",
    "    print(\"Run time for ATE estimation is \",round((end_time-start_time),2))"
   ]
  },
  {
   "cell_type": "markdown",
   "metadata": {},
   "source": [
    "Regression Adjustment"
   ]
  },
  {
   "cell_type": "code",
   "execution_count": 9,
   "metadata": {},
   "outputs": [],
   "source": [
    "# Merging A and PS\n",
    "\n",
    "def Regression_Adjustment(A,PS,Y):\n",
    "    start_time = time.time()\n",
    "\n",
    "    a = []\n",
    "    for i in range(0, len(A)):\n",
    "        c = []\n",
    "        c.append(A[i])\n",
    "        c.append(PS[i])\n",
    "        a.append(c)\n",
    "\n",
    "    # Linear Regression\n",
    "    model =  sklearn.linear_model.LinearRegression().fit(a, Y)\n",
    "    ATE = model.coef_[0]\n",
    "    end_time = time.time()\n",
    "\n",
    "    print(\"Estimated ATE is \", round(ATE,2))\n",
    "    print(\"Run time for ATE estimation is \",round((end_time-start_time),2))"
   ]
  },
  {
   "cell_type": "markdown",
   "metadata": {},
   "source": [
    "## Conclusion:\n",
    "\n",
    "Run time and ATE"
   ]
  },
  {
   "cell_type": "code",
   "execution_count": 10,
   "metadata": {},
   "outputs": [
    {
     "name": "stdout",
     "output_type": "stream",
     "text": [
      "Estimated ATE is -2.96\n",
      "Run time for ATE estimation is 3.80 s\n"
     ]
    }
   ],
   "source": [
    "# Weighted Regression\n",
    "w_reg_ATE(highDim_data, PS_high)"
   ]
  },
  {
   "cell_type": "code",
   "execution_count": 11,
   "metadata": {},
   "outputs": [
    {
     "name": "stdout",
     "output_type": "stream",
     "text": [
      "Estimated ATE is  -2.77\n",
      "Run time for ATE estimation is  0.06\n"
     ]
    }
   ],
   "source": [
    "# Stratification\n",
    "ATE_fun(highDim_data,PS_high)"
   ]
  },
  {
   "cell_type": "code",
   "execution_count": 12,
   "metadata": {},
   "outputs": [
    {
     "name": "stdout",
     "output_type": "stream",
     "text": [
      "Estimated ATE is  -2.99\n",
      "Run time for ATE estimation is  0.25\n"
     ]
    }
   ],
   "source": [
    "# Regression Adjustment\n",
    "Regression_Adjustment(A = highDim_data['A'],PS = PS_high,Y = highDim_data['Y'])"
   ]
  },
  {
   "cell_type": "markdown",
   "metadata": {},
   "source": [
    "Our hypothisis is that for the high dimention data set Stratification is the best method because,...."
   ]
  },
  {
   "cell_type": "code",
   "execution_count": 13,
   "metadata": {},
   "outputs": [
    {
     "name": "stdout",
     "output_type": "stream",
     "text": [
      "Estimated ATE is 2.52\n",
      "Run time for ATE estimation is 0.47 s\n"
     ]
    }
   ],
   "source": [
    "# Weighted Regression\n",
    "w_reg_ATE(lowDim_data, PS_low)"
   ]
  },
  {
   "cell_type": "code",
   "execution_count": 14,
   "metadata": {},
   "outputs": [
    {
     "name": "stdout",
     "output_type": "stream",
     "text": [
      "Estimated ATE is  2.88\n",
      "Run time for ATE estimation is  0.08\n"
     ]
    }
   ],
   "source": [
    "# Stratification\n",
    "ATE_fun(lowDim_data,PS_low)"
   ]
  },
  {
   "cell_type": "code",
   "execution_count": 15,
   "metadata": {},
   "outputs": [
    {
     "name": "stdout",
     "output_type": "stream",
     "text": [
      "Estimated ATE is  2.5\n",
      "Run time for ATE estimation is  0.06\n"
     ]
    }
   ],
   "source": [
    "# Regression Adjustment\n",
    "Regression_Adjustment(A = lowDim_data['A'],PS = PS_low,Y = lowDim_data['Y'])"
   ]
  },
  {
   "cell_type": "markdown",
   "metadata": {},
   "source": [
    "Our hypothisis is that for the low dimention data set Stratification is the best method because,...."
   ]
  },
  {
   "cell_type": "markdown",
   "metadata": {},
   "source": [
    "The true ATE for 2 data sets:\n",
    "\n",
    "highDim_dataset: -3\n",
    "\n",
    "lowDim_dataset: 2.5\n"
   ]
  },
  {
   "cell_type": "markdown",
   "metadata": {},
   "source": [
    "After comparing with the real ATE, Regression Adjustment is the best method for high dimensional data.Using this method we do however, sacrifise on faster run time but not by much"
   ]
  },
  {
   "cell_type": "markdown",
   "metadata": {},
   "source": [
    "After comparing with the real ATE, Regression Adjustment is the best method for low dimensional data."
   ]
  }
 ],
 "metadata": {
  "kernelspec": {
   "display_name": "Python 3",
   "language": "python",
   "name": "python3"
  },
  "language_info": {
   "codemirror_mode": {
    "name": "ipython",
    "version": 3
   },
   "file_extension": ".py",
   "mimetype": "text/x-python",
   "name": "python",
   "nbconvert_exporter": "python",
   "pygments_lexer": "ipython3",
   "version": "3.7.6"
  }
 },
 "nbformat": 4,
 "nbformat_minor": 4
}
